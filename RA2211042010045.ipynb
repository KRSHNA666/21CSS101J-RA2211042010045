{
  "nbformat": 4,
  "nbformat_minor": 0,
  "metadata": {
    "colab": {
      "provenance": [],
      "authorship_tag": "ABX9TyNNrF9C3y5LncsYWQgEy61s",
      "include_colab_link": true
    },
    "kernelspec": {
      "name": "python3",
      "display_name": "Python 3"
    },
    "language_info": {
      "name": "python"
    }
  },
  "cells": [
    {
      "cell_type": "markdown",
      "metadata": {
        "id": "view-in-github",
        "colab_type": "text"
      },
      "source": [
        "<a href=\"https://colab.research.google.com/github/KRSHNA666/21CSS101J-RA2211042010045/blob/main/RA2211042010045.ipynb\" target=\"_parent\"><img src=\"https://colab.research.google.com/assets/colab-badge.svg\" alt=\"Open In Colab\"/></a>"
      ]
    },
    {
      "cell_type": "code",
      "execution_count": 1,
      "metadata": {
        "id": "yqgh35nFLJOo",
        "colab": {
          "base_uri": "https://localhost:8080/"
        },
        "outputId": "44f53c48-c5d3-4e14-e36b-a12c8ba4ef8b"
      },
      "outputs": [
        {
          "output_type": "stream",
          "name": "stdout",
          "text": [
            "Hello World\n"
          ]
        }
      ],
      "source": [
        "# This program prints Hello World\n",
        "print(\"Hello World\")"
      ]
    },
    {
      "cell_type": "markdown",
      "source": [
        "Summation of two numbers"
      ],
      "metadata": {
        "id": "KfnjsvTsOR4Y"
      }
    },
    {
      "cell_type": "code",
      "source": [
        "67889+89645"
      ],
      "metadata": {
        "id": "EjXXuWq9OaQJ",
        "outputId": "5afc04ed-d132-4667-c862-f9ce8add0c2a",
        "colab": {
          "base_uri": "https://localhost:8080/"
        }
      },
      "execution_count": 2,
      "outputs": [
        {
          "output_type": "execute_result",
          "data": {
            "text/plain": [
              "157534"
            ]
          },
          "metadata": {},
          "execution_count": 2
        }
      ]
    },
    {
      "cell_type": "markdown",
      "source": [],
      "metadata": {
        "id": "HtWE84ekOnis"
      }
    }
  ]
}