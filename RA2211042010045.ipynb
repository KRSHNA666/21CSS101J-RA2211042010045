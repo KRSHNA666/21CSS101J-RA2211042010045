{
  "nbformat": 4,
  "nbformat_minor": 0,
  "metadata": {
    "colab": {
      "provenance": [],
      "authorship_tag": "ABX9TyPz9aUPaxDWGANi5gk4B+PH",
      "include_colab_link": true
    },
    "kernelspec": {
      "name": "python3",
      "display_name": "Python 3"
    },
    "language_info": {
      "name": "python"
    }
  },
  "cells": [
    {
      "cell_type": "markdown",
      "metadata": {
        "id": "view-in-github",
        "colab_type": "text"
      },
      "source": [
        "<a href=\"https://colab.research.google.com/github/KRSHNA666/21CSS101J-RA2211042010045/blob/main/RA2211042010045.ipynb\" target=\"_parent\"><img src=\"https://colab.research.google.com/assets/colab-badge.svg\" alt=\"Open In Colab\"/></a>"
      ]
    },
    {
      "cell_type": "code",
      "execution_count": 1,
      "metadata": {
        "id": "yqgh35nFLJOo",
        "colab": {
          "base_uri": "https://localhost:8080/"
        },
        "outputId": "44f53c48-c5d3-4e14-e36b-a12c8ba4ef8b"
      },
      "outputs": [
        {
          "output_type": "stream",
          "name": "stdout",
          "text": [
            "Hello World\n"
          ]
        }
      ],
      "source": [
        "# This program prints Hello World\n",
        "print(\"Hello World\")"
      ]
    },
    {
      "cell_type": "markdown",
      "source": [
        "Summation of two numbers"
      ],
      "metadata": {
        "id": "KfnjsvTsOR4Y"
      }
    },
    {
      "cell_type": "code",
      "source": [
        "67889+89645"
      ],
      "metadata": {
        "colab": {
          "base_uri": "https://localhost:8080/"
        },
        "id": "EjXXuWq9OaQJ",
        "outputId": "5afc04ed-d132-4667-c862-f9ce8add0c2a"
      },
      "execution_count": 2,
      "outputs": [
        {
          "output_type": "execute_result",
          "data": {
            "text/plain": [
              "157534"
            ]
          },
          "metadata": {},
          "execution_count": 2
        }
      ]
    },
    {
      "cell_type": "markdown",
      "source": [
        "Difference of two numbers"
      ],
      "metadata": {
        "id": "HtWE84ekOnis"
      }
    },
    {
      "cell_type": "code",
      "source": [
        "56748936-67486989"
      ],
      "metadata": {
        "id": "dVgDj15QPAxg",
        "outputId": "fa26ab48-feba-42e1-8dfc-991609c438aa",
        "colab": {
          "base_uri": "https://localhost:8080/"
        }
      },
      "execution_count": 3,
      "outputs": [
        {
          "output_type": "execute_result",
          "data": {
            "text/plain": [
              "-10738053"
            ]
          },
          "metadata": {},
          "execution_count": 3
        }
      ]
    },
    {
      "cell_type": "markdown",
      "source": [
        "Division of two numbers"
      ],
      "metadata": {
        "id": "M7jiNP1HPYs_"
      }
    },
    {
      "cell_type": "code",
      "source": [
        "567842 / 734289"
      ],
      "metadata": {
        "id": "5D5o9mRRPds6",
        "outputId": "d2179c5b-1fa8-4bf3-f665-96ea2368179d",
        "colab": {
          "base_uri": "https://localhost:8080/"
        }
      },
      "execution_count": 4,
      "outputs": [
        {
          "output_type": "execute_result",
          "data": {
            "text/plain": [
              "0.7733222205425929"
            ]
          },
          "metadata": {},
          "execution_count": 4
        }
      ]
    },
    {
      "cell_type": "markdown",
      "source": [
        "Product of two numbers"
      ],
      "metadata": {
        "id": "etBIRo-1P_Vk"
      }
    },
    {
      "cell_type": "code",
      "source": [
        "5697823 * 657848"
      ],
      "metadata": {
        "id": "HHxjr33rQFC1",
        "outputId": "9a704b6b-a904-4fb9-d3ce-81e54b413226",
        "colab": {
          "base_uri": "https://localhost:8080/"
        }
      },
      "execution_count": 5,
      "outputs": [
        {
          "output_type": "execute_result",
          "data": {
            "text/plain": [
              "3748301464904"
            ]
          },
          "metadata": {},
          "execution_count": 5
        }
      ]
    },
    {
      "cell_type": "markdown",
      "source": [
        "python program to find square root of a number"
      ],
      "metadata": {
        "id": "x-t4G1CmQL64"
      }
    },
    {
      "cell_type": "code",
      "source": [
        "# Python Program to calculate the square root\n",
        "\n",
        "num = 8 \n",
        "\n",
        "num_sqrt = num ** 0.5\n",
        "print('The square root of %0.3f is %0.3f'%(num ,num_sqrt))\n"
      ],
      "metadata": {
        "id": "nEM-SPaZQpBY",
        "outputId": "39193641-d6fa-4469-f850-ba3b10cfa68d",
        "colab": {
          "base_uri": "https://localhost:8080/"
        }
      },
      "execution_count": 7,
      "outputs": [
        {
          "output_type": "stream",
          "name": "stdout",
          "text": [
            "The square root of 8.000 is 2.828\n"
          ]
        }
      ]
    },
    {
      "cell_type": "markdown",
      "source": [
        "Python program to calculate Area of triangle"
      ],
      "metadata": {
        "id": "2zZSTIqZRarQ"
      }
    },
    {
      "cell_type": "code",
      "source": [
        "# Python Program to find the area of triangle\n",
        "\n",
        "h = 6\n",
        "b = 6\n",
        "\n",
        "#calculate the area\n",
        "\n",
        "area = 0.5 * b * h\n",
        "\n",
        "print('The area of triangle is %0.2f' %area)"
      ],
      "metadata": {
        "id": "tf50PL2nRxuc",
        "outputId": "ce0c92f4-9360-49f4-8f74-c2faa2a18b0c",
        "colab": {
          "base_uri": "https://localhost:8080/"
        }
      },
      "execution_count": 15,
      "outputs": [
        {
          "output_type": "stream",
          "name": "stdout",
          "text": [
            "The area of triangle is 18.00\n"
          ]
        }
      ]
    },
    {
      "cell_type": "markdown",
      "source": [
        "python program to find area of square"
      ],
      "metadata": {
        "id": "ieV2xRsITY0X"
      }
    },
    {
      "cell_type": "code",
      "source": [
        "# python Program to find the area of square\n",
        "\n",
        "s =4\n",
        "\n",
        "#calculate the area\n",
        "\n",
        "area = s * s\n",
        "\n",
        "print('The area of square is %d' %area)"
      ],
      "metadata": {
        "id": "yJxsS_0yTmsd",
        "outputId": "a7c52969-deab-4bbf-a96e-04965e0cdefc",
        "colab": {
          "base_uri": "https://localhost:8080/"
        }
      },
      "execution_count": 14,
      "outputs": [
        {
          "output_type": "stream",
          "name": "stdout",
          "text": [
            "The area of square is 16\n"
          ]
        }
      ]
    },
    {
      "cell_type": "markdown",
      "source": [
        "Python program to find square of a number "
      ],
      "metadata": {
        "id": "b4HsDGfTUz0R"
      }
    },
    {
      "cell_type": "code",
      "source": [
        "#python program to find the square of an number \n",
        "\n",
        "a = 991\n",
        "\n",
        "#calculate the square\n",
        "\n",
        "square = a * a\n",
        "print('The square of the number is %d' %area)"
      ],
      "metadata": {
        "id": "7mUBK9qeU-S7",
        "outputId": "128b536b-4d10-4fd8-99ef-ccdfa1a935eb",
        "colab": {
          "base_uri": "https://localhost:8080/"
        }
      },
      "execution_count": 17,
      "outputs": [
        {
          "output_type": "stream",
          "name": "stdout",
          "text": [
            "The square of the number is 18\n"
          ]
        }
      ]
    },
    {
      "cell_type": "markdown",
      "source": [],
      "metadata": {
        "id": "yj_azfmaX0S7"
      }
    }
  ]
}